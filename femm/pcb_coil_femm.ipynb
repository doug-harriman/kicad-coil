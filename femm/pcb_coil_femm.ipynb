{
 "cells": [
  {
   "cell_type": "code",
   "execution_count": 1,
   "metadata": {},
   "outputs": [],
   "source": [
    "# PCB coil simulation\n",
    "# TODO: Move coil generation to the KiCAD coil generator.\n",
    "\n",
    "from pint import Quantity as Q\n",
    "import numpy as np\n",
    "import femm"
   ]
  },
  {
   "cell_type": "code",
   "execution_count": 2,
   "metadata": {},
   "outputs": [],
   "source": [
    "def CuWeight2Thickness(weight: Q = Q(1, 'oz/ft^2')) -> Q:\n",
    "    \"\"\"\n",
    "    Converts PCB copper weight to thickness using Pint quantities.\n",
    "    \"\"\"\n",
    "\n",
    "    # Mapping table per: https://pcbprime.com/pcb-tips/how-thick-is-1oz-copper/\n",
    "    pcb_weight = Q(np.array([1, 1.5, 2, 3, 4, 5, 6, 7, 8, 9]), 'oz/ft^2')\n",
    "    trace_thickness = Q(np.array(\n",
    "        [34.80, 52.20, 69.60, 104.39, 139.19, 173.99, 208.79, 243.59, 278.38, 313.18]), 'um')\n",
    "\n",
    "    # Interpolate\n",
    "    thickness = np.interp(weight, pcb_weight,\n",
    "                          trace_thickness, left=np.NaN, right=np.NaN)\n",
    "    return thickness"
   ]
  },
  {
   "cell_type": "code",
   "execution_count": 3,
   "metadata": {},
   "outputs": [],
   "source": [
    "# Board thicknesses available:\n",
    "# thicknesses_pcbway = [.2, .3, .4, .6, .8, 1.0, 1.2, 1.6, 2.0, 2.4, 2.6, 2.8, 3.0, 3.2]\n",
    "# track_spacing_width_pcbway = Q([3,4,5,6,8],'milliinch')\n",
    "# copper_weight_pcbway = Q(np.arange(1,14),'oz/ft**2')"
   ]
  },
  {
   "cell_type": "code",
   "execution_count": 5,
   "metadata": {},
   "outputs": [],
   "source": [
    "# Design as of 03-Jan-2023\n",
    "copper_weight = Q(1, 'oz/ft^2')\n",
    "track_spacing = Q(6, 'milliinch')\n",
    "track_width = track_spacing\n",
    "board_layers = 2  # Must be even\n",
    "board_thickness = Q(1.6, 'mm')\n",
    "\n",
    "track_thickness = CuWeight2Thickness(copper_weight)\n",
    "\n",
    "coil_turns = 12\n",
    "coil_id = Q(2,'mm')\n"
   ]
  },
  {
   "cell_type": "code",
   "execution_count": null,
   "metadata": {},
   "outputs": [],
   "source": []
  },
  {
   "cell_type": "code",
   "execution_count": 7,
   "metadata": {},
   "outputs": [],
   "source": [
    "femm.closefemm()"
   ]
  },
  {
   "cell_type": "code",
   "execution_count": null,
   "metadata": {},
   "outputs": [],
   "source": []
  }
 ],
 "metadata": {
  "kernelspec": {
   "display_name": "Python 3",
   "language": "python",
   "name": "python3"
  },
  "language_info": {
   "codemirror_mode": {
    "name": "ipython",
    "version": 3
   },
   "file_extension": ".py",
   "mimetype": "text/x-python",
   "name": "python",
   "nbconvert_exporter": "python",
   "pygments_lexer": "ipython3",
   "version": "3.8.10"
  },
  "orig_nbformat": 4,
  "vscode": {
   "interpreter": {
    "hash": "507a1a5ac189b847835e750ce8f09a022a4d9bcd459523e349675272d15d9454"
   }
  }
 },
 "nbformat": 4,
 "nbformat_minor": 2
}
